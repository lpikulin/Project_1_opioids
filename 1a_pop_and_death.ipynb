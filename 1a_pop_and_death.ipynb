{
 "cells": [
  {
   "cell_type": "code",
   "execution_count": 1,
   "metadata": {},
   "outputs": [],
   "source": [
    "import pandas as pd"
   ]
  },
  {
   "cell_type": "code",
   "execution_count": 2,
   "metadata": {},
   "outputs": [
    {
     "name": "stderr",
     "output_type": "stream",
     "text": [
      "C:\\Users\\ama29\\anaconda3\\lib\\site-packages\\ipykernel_launcher.py:2: ParserWarning: Falling back to the 'python' engine because the 'c' engine does not support skipfooter; you can avoid this warning by specifying engine='python'.\n",
      "  \n"
     ]
    },
    {
     "data": {
      "text/html": [
       "<div>\n",
       "<style scoped>\n",
       "    .dataframe tbody tr th:only-of-type {\n",
       "        vertical-align: middle;\n",
       "    }\n",
       "\n",
       "    .dataframe tbody tr th {\n",
       "        vertical-align: top;\n",
       "    }\n",
       "\n",
       "    .dataframe thead th {\n",
       "        text-align: right;\n",
       "    }\n",
       "</style>\n",
       "<table border=\"1\" class=\"dataframe\">\n",
       "  <thead>\n",
       "    <tr style=\"text-align: right;\">\n",
       "      <th></th>\n",
       "      <th>Notes</th>\n",
       "      <th>State</th>\n",
       "      <th>State Code</th>\n",
       "      <th>Five-Year Age Groups</th>\n",
       "      <th>Five-Year Age Groups Code</th>\n",
       "      <th>Year</th>\n",
       "      <th>Year Code</th>\n",
       "      <th>Deaths</th>\n",
       "      <th>Population</th>\n",
       "      <th>Crude Rate</th>\n",
       "    </tr>\n",
       "  </thead>\n",
       "  <tbody>\n",
       "    <tr>\n",
       "      <th>0</th>\n",
       "      <td>NaN</td>\n",
       "      <td>Alabama</td>\n",
       "      <td>1</td>\n",
       "      <td>&lt; 1 year</td>\n",
       "      <td>1</td>\n",
       "      <td>1999</td>\n",
       "      <td>1999</td>\n",
       "      <td>606</td>\n",
       "      <td>58787</td>\n",
       "      <td>1030.8</td>\n",
       "    </tr>\n",
       "    <tr>\n",
       "      <th>1</th>\n",
       "      <td>NaN</td>\n",
       "      <td>Alabama</td>\n",
       "      <td>1</td>\n",
       "      <td>&lt; 1 year</td>\n",
       "      <td>1</td>\n",
       "      <td>2000</td>\n",
       "      <td>2000</td>\n",
       "      <td>596</td>\n",
       "      <td>59101</td>\n",
       "      <td>1008.4</td>\n",
       "    </tr>\n",
       "    <tr>\n",
       "      <th>2</th>\n",
       "      <td>NaN</td>\n",
       "      <td>Alabama</td>\n",
       "      <td>1</td>\n",
       "      <td>&lt; 1 year</td>\n",
       "      <td>1</td>\n",
       "      <td>2001</td>\n",
       "      <td>2001</td>\n",
       "      <td>567</td>\n",
       "      <td>61537</td>\n",
       "      <td>921.4</td>\n",
       "    </tr>\n",
       "    <tr>\n",
       "      <th>3</th>\n",
       "      <td>NaN</td>\n",
       "      <td>Alabama</td>\n",
       "      <td>1</td>\n",
       "      <td>&lt; 1 year</td>\n",
       "      <td>1</td>\n",
       "      <td>2002</td>\n",
       "      <td>2002</td>\n",
       "      <td>539</td>\n",
       "      <td>58963</td>\n",
       "      <td>914.1</td>\n",
       "    </tr>\n",
       "    <tr>\n",
       "      <th>4</th>\n",
       "      <td>NaN</td>\n",
       "      <td>Alabama</td>\n",
       "      <td>1</td>\n",
       "      <td>&lt; 1 year</td>\n",
       "      <td>1</td>\n",
       "      <td>2003</td>\n",
       "      <td>2003</td>\n",
       "      <td>519</td>\n",
       "      <td>58021</td>\n",
       "      <td>894.5</td>\n",
       "    </tr>\n",
       "  </tbody>\n",
       "</table>\n",
       "</div>"
      ],
      "text/plain": [
       "   Notes    State  State Code Five-Year Age Groups Five-Year Age Groups Code  \\\n",
       "0    NaN  Alabama           1             < 1 year                         1   \n",
       "1    NaN  Alabama           1             < 1 year                         1   \n",
       "2    NaN  Alabama           1             < 1 year                         1   \n",
       "3    NaN  Alabama           1             < 1 year                         1   \n",
       "4    NaN  Alabama           1             < 1 year                         1   \n",
       "\n",
       "   Year  Year Code  Deaths Population Crude Rate  \n",
       "0  1999       1999     606      58787     1030.8  \n",
       "1  2000       2000     596      59101     1008.4  \n",
       "2  2001       2001     567      61537      921.4  \n",
       "3  2002       2002     539      58963      914.1  \n",
       "4  2003       2003     519      58021      894.5  "
      ]
     },
     "execution_count": 2,
     "metadata": {},
     "output_type": "execute_result"
    }
   ],
   "source": [
    "myfile=\"data/pop_and_death.txt\"\n",
    "df = pd.read_csv(myfile,sep='\\t',header=(0), skipfooter=56)\n",
    "df.head(5)"
   ]
  },
  {
   "cell_type": "code",
   "execution_count": 3,
   "metadata": {
    "scrolled": true
   },
   "outputs": [
    {
     "data": {
      "text/plain": [
       "60-64 years     1020\n",
       "35-39 years     1020\n",
       "20-24 years     1020\n",
       "15-19 years     1020\n",
       "50-54 years     1020\n",
       "45-49 years     1020\n",
       "< 1 year        1020\n",
       "75-79 years     1020\n",
       "25-29 years     1020\n",
       "85-89 years     1020\n",
       "90-94 years     1020\n",
       "80-84 years     1020\n",
       "55-59 years     1020\n",
       "65-69 years     1020\n",
       "70-74 years     1020\n",
       "40-44 years     1020\n",
       "95-99 years     1020\n",
       "30-34 years     1020\n",
       "100+ years      1016\n",
       "1-4 years        932\n",
       "10-14 years      901\n",
       "5-9 years        850\n",
       "Not Stated       111\n",
       "Name: Five-Year Age Groups, dtype: int64"
      ]
     },
     "execution_count": 3,
     "metadata": {},
     "output_type": "execute_result"
    }
   ],
   "source": [
    "#get values of Five Year Age Groups for recoding\n",
    "df['Five-Year Age Groups'].value_counts()"
   ]
  },
  {
   "cell_type": "code",
   "execution_count": 4,
   "metadata": {},
   "outputs": [
    {
     "name": "stdout",
     "output_type": "stream",
     "text": [
      "<class 'pandas.core.frame.DataFrame'>\n",
      "RangeIndex: 22170 entries, 0 to 22169\n",
      "Data columns (total 13 columns):\n",
      " #   Column                     Non-Null Count  Dtype  \n",
      "---  ------                     --------------  -----  \n",
      " 0   Notes                      0 non-null      float64\n",
      " 1   State                      22170 non-null  object \n",
      " 2   State Code                 22170 non-null  int64  \n",
      " 3   Five-Year Age Groups       22170 non-null  object \n",
      " 4   Five-Year Age Groups Code  22170 non-null  object \n",
      " 5   Year                       22170 non-null  int64  \n",
      " 6   Year Code                  22170 non-null  int64  \n",
      " 7   Deaths                     22170 non-null  int64  \n",
      " 8   Population                 22170 non-null  object \n",
      " 9   Crude Rate                 22170 non-null  object \n",
      " 10  Age_Group                  22170 non-null  object \n",
      " 11  death_num                  22170 non-null  int32  \n",
      " 12  pop_num                    22170 non-null  int32  \n",
      "dtypes: float64(1), int32(2), int64(4), object(6)\n",
      "memory usage: 2.0+ MB\n"
     ]
    }
   ],
   "source": [
    "#recode age variables: 0-24, 25-34, 35-44, 45-54, 55 plus\n",
    "def rename_age(ag):\n",
    "    if(ag==\"< 1 year\")|(ag==\"1-4 years\")|(ag==\"5-9 years\")|(ag==\"10-14 years\")|(ag==\"15-19 years\")|(ag==\"20-24 years\"):\n",
    "        return \"0-24\"\n",
    "    elif (ag==\"25-29 years\")|(ag==\"30-34 years\"):\n",
    "        return \"25-34\"\n",
    "    elif (ag==\"35-39 years\")|(ag==\"40-44 years\"):\n",
    "        return \"35-44\"\n",
    "    elif (ag==\"45-49 years\")|(ag==\"50-54 years\"):\n",
    "        return \"45-54\"\n",
    "    elif (ag==\"Not Stated\"):\n",
    "        return \"NS\"\n",
    "    else:\n",
    "        return \"55+\"\n",
    "\n",
    "#run function to recode age groups\n",
    "df['Age_Group'] = df['Five-Year Age Groups'].apply(rename_age)\n",
    "\n",
    "#repressed cells due to low sample sizes are coded as NA or Unavilalbe. Recode these values to 0 so they are not included in our population\n",
    "def recode_missing(n):\n",
    "    if(n==\"Unavailable\")|(n==\"Not Applicable\"):\n",
    "        return(\"0\")\n",
    "    else:\n",
    "        return(n)\n",
    "\n",
    "#run recode fuction and convert to int\n",
    "df['death_num']=df['Deaths'].apply(recode_missing).astype('int') \n",
    "df['pop_num']=df['Population'].apply(recode_missing).astype('int')\n",
    "\n",
    "#check conversion\n",
    "df.info()"
   ]
  },
  {
   "cell_type": "code",
   "execution_count": 5,
   "metadata": {},
   "outputs": [
    {
     "data": {
      "text/plain": [
       "55+      10196\n",
       "0-24      5743\n",
       "35-44     2040\n",
       "25-34     2040\n",
       "45-54     2040\n",
       "NS         111\n",
       "Name: Age_Group, dtype: int64"
      ]
     },
     "execution_count": 5,
     "metadata": {},
     "output_type": "execute_result"
    }
   ],
   "source": [
    "#check recoded age variable\n",
    "df['Age_Group'].value_counts()"
   ]
  },
  {
   "cell_type": "code",
   "execution_count": 6,
   "metadata": {},
   "outputs": [],
   "source": [
    "#drop unnecssary columns\n",
    "clean_df=(df.drop(columns=['Notes','State Code','Five-Year Age Groups','Deaths','Population','Five-Year Age Groups Code','Year Code','Crude Rate']).dropna(how='any'))\n"
   ]
  },
  {
   "cell_type": "code",
   "execution_count": 7,
   "metadata": {},
   "outputs": [],
   "source": [
    "#first sort then group the cleaned data by Age Group, State, and Year.\n",
    "group_vars=['Age_Group','State','Year']\n",
    "sort_df=clean_df.sort_values(group_vars)\n",
    "\n",
    "group_df=sort_df.groupby(group_vars)"
   ]
  },
  {
   "cell_type": "code",
   "execution_count": 8,
   "metadata": {},
   "outputs": [
    {
     "name": "stdout",
     "output_type": "stream",
     "text": [
      "                        deaths  population\n",
      "Age_Group State   Year                    \n",
      "0-24      Alabama 1999    1663     1562039\n",
      "                  2000    1539     1563034\n",
      "                  2001    1532     1568372\n",
      "                  2002    1513     1567247\n",
      "                  2003    1446     1569632\n",
      "...                        ...         ...\n",
      "NS        Texas   2003      40           0\n",
      "                  2004      27           0\n",
      "                  2005      35           0\n",
      "                  2007      14           0\n",
      "                  2014      11           0\n",
      "\n",
      "[5211 rows x 2 columns]\n"
     ]
    }
   ],
   "source": [
    "#Sum deaths and pouplation by age group and put them into a new data frame. This dataframe becomes our data for analysis. \n",
    "deaths=group_df['death_num'].sum()\n",
    "pop=group_df['pop_num'].sum()\n",
    "\n",
    "summ_df=pd.DataFrame({'deaths':deaths,\n",
    "         'population':pop})\n",
    "print(summ_df)"
   ]
  },
  {
   "cell_type": "code",
   "execution_count": 9,
   "metadata": {},
   "outputs": [],
   "source": [
    "#Export the clean data to CSV. This is the file to use for analys.\n",
    "#Note: exporting to CSV and then importing removes any issues caused by grouping the data. I added this step \n",
    "#as I was working on pivoting the file, I was haivng issues trying to pivot a grouped data file.  Exporitng to CSV \n",
    "#and bringing it backed removed the group settings\n",
    "summ_df.to_csv('data/clean_pop.csv')"
   ]
  },
  {
   "cell_type": "code",
   "execution_count": 10,
   "metadata": {},
   "outputs": [
    {
     "data": {
      "text/html": [
       "<div>\n",
       "<style scoped>\n",
       "    .dataframe tbody tr th:only-of-type {\n",
       "        vertical-align: middle;\n",
       "    }\n",
       "\n",
       "    .dataframe tbody tr th {\n",
       "        vertical-align: top;\n",
       "    }\n",
       "\n",
       "    .dataframe thead th {\n",
       "        text-align: right;\n",
       "    }\n",
       "</style>\n",
       "<table border=\"1\" class=\"dataframe\">\n",
       "  <thead>\n",
       "    <tr style=\"text-align: right;\">\n",
       "      <th></th>\n",
       "      <th>Age_Group</th>\n",
       "      <th>State</th>\n",
       "      <th>Year</th>\n",
       "      <th>deaths</th>\n",
       "      <th>population</th>\n",
       "    </tr>\n",
       "  </thead>\n",
       "  <tbody>\n",
       "    <tr>\n",
       "      <th>0</th>\n",
       "      <td>0-24</td>\n",
       "      <td>Alabama</td>\n",
       "      <td>1999</td>\n",
       "      <td>1663</td>\n",
       "      <td>1562039</td>\n",
       "    </tr>\n",
       "    <tr>\n",
       "      <th>1</th>\n",
       "      <td>0-24</td>\n",
       "      <td>Alabama</td>\n",
       "      <td>2000</td>\n",
       "      <td>1539</td>\n",
       "      <td>1563034</td>\n",
       "    </tr>\n",
       "    <tr>\n",
       "      <th>2</th>\n",
       "      <td>0-24</td>\n",
       "      <td>Alabama</td>\n",
       "      <td>2001</td>\n",
       "      <td>1532</td>\n",
       "      <td>1568372</td>\n",
       "    </tr>\n",
       "    <tr>\n",
       "      <th>3</th>\n",
       "      <td>0-24</td>\n",
       "      <td>Alabama</td>\n",
       "      <td>2002</td>\n",
       "      <td>1513</td>\n",
       "      <td>1567247</td>\n",
       "    </tr>\n",
       "    <tr>\n",
       "      <th>4</th>\n",
       "      <td>0-24</td>\n",
       "      <td>Alabama</td>\n",
       "      <td>2003</td>\n",
       "      <td>1446</td>\n",
       "      <td>1569632</td>\n",
       "    </tr>\n",
       "  </tbody>\n",
       "</table>\n",
       "</div>"
      ],
      "text/plain": [
       "  Age_Group    State  Year  deaths  population\n",
       "0      0-24  Alabama  1999    1663     1562039\n",
       "1      0-24  Alabama  2000    1539     1563034\n",
       "2      0-24  Alabama  2001    1532     1568372\n",
       "3      0-24  Alabama  2002    1513     1567247\n",
       "4      0-24  Alabama  2003    1446     1569632"
      ]
     },
     "execution_count": 10,
     "metadata": {},
     "output_type": "execute_result"
    }
   ],
   "source": [
    "#read the clean data file\n",
    "clean_df=pd.read_csv('data/clean_pop.csv')\n",
    "clean_df.head()"
   ]
  }
 ],
 "metadata": {
  "kernelspec": {
   "display_name": "Python 3",
   "language": "python",
   "name": "python3"
  },
  "language_info": {
   "codemirror_mode": {
    "name": "ipython",
    "version": 3
   },
   "file_extension": ".py",
   "mimetype": "text/x-python",
   "name": "python",
   "nbconvert_exporter": "python",
   "pygments_lexer": "ipython3",
   "version": "3.7.6"
  }
 },
 "nbformat": 4,
 "nbformat_minor": 4
}
