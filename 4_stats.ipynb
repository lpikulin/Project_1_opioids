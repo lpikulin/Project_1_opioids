{
 "cells": [
  {
   "cell_type": "code",
   "execution_count": 1,
   "metadata": {},
   "outputs": [
    {
     "data": {
      "text/html": [
       "<div>\n",
       "<style scoped>\n",
       "    .dataframe tbody tr th:only-of-type {\n",
       "        vertical-align: middle;\n",
       "    }\n",
       "\n",
       "    .dataframe tbody tr th {\n",
       "        vertical-align: top;\n",
       "    }\n",
       "\n",
       "    .dataframe thead th {\n",
       "        text-align: right;\n",
       "    }\n",
       "</style>\n",
       "<table border=\"1\" class=\"dataframe\">\n",
       "  <thead>\n",
       "    <tr style=\"text-align: right;\">\n",
       "      <th></th>\n",
       "      <th>State</th>\n",
       "      <th>Total Providers</th>\n",
       "      <th>Total Rx</th>\n",
       "      <th>Total Opioid Rx</th>\n",
       "      <th>Average Opioid Rx</th>\n",
       "      <th>Number of Top Providers</th>\n",
       "    </tr>\n",
       "  </thead>\n",
       "  <tbody>\n",
       "    <tr>\n",
       "      <th>0</th>\n",
       "      <td>AK</td>\n",
       "      <td>1623</td>\n",
       "      <td>1062952</td>\n",
       "      <td>75776</td>\n",
       "      <td>7.128826</td>\n",
       "      <td>19</td>\n",
       "    </tr>\n",
       "    <tr>\n",
       "      <th>1</th>\n",
       "      <td>AL</td>\n",
       "      <td>11365</td>\n",
       "      <td>25804989</td>\n",
       "      <td>2042805</td>\n",
       "      <td>7.916318</td>\n",
       "      <td>146</td>\n",
       "    </tr>\n",
       "    <tr>\n",
       "      <th>2</th>\n",
       "      <td>AR</td>\n",
       "      <td>6802</td>\n",
       "      <td>16607909</td>\n",
       "      <td>1124700</td>\n",
       "      <td>6.772075</td>\n",
       "      <td>86</td>\n",
       "    </tr>\n",
       "    <tr>\n",
       "      <th>3</th>\n",
       "      <td>AZ</td>\n",
       "      <td>16558</td>\n",
       "      <td>22004918</td>\n",
       "      <td>1534577</td>\n",
       "      <td>6.973791</td>\n",
       "      <td>285</td>\n",
       "    </tr>\n",
       "    <tr>\n",
       "      <th>4</th>\n",
       "      <td>CA</td>\n",
       "      <td>85888</td>\n",
       "      <td>123983374</td>\n",
       "      <td>6702051</td>\n",
       "      <td>5.405605</td>\n",
       "      <td>602</td>\n",
       "    </tr>\n",
       "  </tbody>\n",
       "</table>\n",
       "</div>"
      ],
      "text/plain": [
       "  State  Total Providers   Total Rx  Total Opioid Rx  Average Opioid Rx  \\\n",
       "0    AK             1623    1062952            75776           7.128826   \n",
       "1    AL            11365   25804989          2042805           7.916318   \n",
       "2    AR             6802   16607909          1124700           6.772075   \n",
       "3    AZ            16558   22004918          1534577           6.973791   \n",
       "4    CA            85888  123983374          6702051           5.405605   \n",
       "\n",
       "   Number of Top Providers  \n",
       "0                       19  \n",
       "1                      146  \n",
       "2                       86  \n",
       "3                      285  \n",
       "4                      602  "
      ]
     },
     "execution_count": 1,
     "metadata": {},
     "output_type": "execute_result"
    }
   ],
   "source": [
    "import pandas as pd\n",
    "import matplotlib.pyplot as plt\n",
    "import numpy as np\n",
    "import scipy.stats as st\n",
    "from scipy.stats import linregress\n",
    "from matplotlib.ticker import PercentFormatter\n",
    "\n",
    "#import cleaned CMS data with prescriptions summed to state level\n",
    "cms_df=pd.read_csv('data/state_summary_df.csv')\n",
    "cms_df.head()"
   ]
  },
  {
   "cell_type": "code",
   "execution_count": 2,
   "metadata": {},
   "outputs": [],
   "source": [
    "#import cleaned cause of death data from CMS for the 55+ population\n",
    "od_df=pd.read_csv('data/55+data.csv')\n",
    "od_df=od_df.loc[od_df['Year']==2017]"
   ]
  },
  {
   "cell_type": "code",
   "execution_count": 3,
   "metadata": {},
   "outputs": [],
   "source": [
    "#function to convert state name to 2 letter abbreviation\n",
    "def convert_state(name):\n",
    "    if name==\"Alabama\": return \"AL\"\n",
    "    elif name=='Alaska': return \"AK\"\n",
    "    elif name==\"Arizona\": return 'AZ'\n",
    "    elif name=='Arkansas': return 'AR'\n",
    "    elif name=='California': return 'CA'\n",
    "    elif name=='Colorado': return 'CO'\n",
    "    elif name=='Connecticut': return 'CT'\n",
    "    elif name=='Distrcit of Columbia': return 'DC'\n",
    "    elif name=='Delaware': return 'DE'\n",
    "    elif name=='Florida': return 'FL'\n",
    "    elif name=='Georgia': return 'GA'\n",
    "    elif name=='Hawaii': return 'HI'\n",
    "    elif name=='Idaho': return 'ID'\n",
    "    elif name=='Illinois': return 'IL'\n",
    "    elif name=='Indiana': return 'IN'\n",
    "    elif name=='Iowa': return 'IA'\n",
    "    elif name=='Kansas': return 'KS'\n",
    "    elif name=='Kentucky': return 'KY'\n",
    "    elif name=='Louisiana': return 'LA'\n",
    "    elif name=='Maine': return 'ME'\n",
    "    elif name=='Maryland': return 'MD'\n",
    "    elif name=='Massachusetts': return 'MA'\n",
    "    elif name=='Michigan': return 'MI'\n",
    "    elif name=='Minnesota': return 'MN'\n",
    "    elif name=='Mississippi': return 'MS'\n",
    "    elif name=='Missouri': return 'MO'\n",
    "    elif name=='Montana': return 'MT'\n",
    "    elif name=='Nebraska': return 'NE'\n",
    "    elif name=='Nevada': return 'NV'\n",
    "    elif name=='New Hampshire': return 'NH'\n",
    "    elif name=='New Jersey': return 'NJ'\n",
    "    elif name=='New Mexico': return 'NM'\n",
    "    elif name=='New York': return 'NY'\n",
    "    elif name=='North Carolina': return 'NC'\n",
    "    elif name=='North Dakota': return 'ND'\n",
    "    elif name=='Ohio': return 'OH'\n",
    "    elif name=='Oklahoma': return 'OK'\n",
    "    elif name=='Oregon': return 'OR'\n",
    "    elif name=='Pennsylvania': return 'PA'\n",
    "    elif name=='Rhode Island': return 'RI'\n",
    "    elif name=='South Carolina': return 'SC'\n",
    "    elif name=='South Dakota': return 'SD'\n",
    "    elif name=='Tennessee': return 'TN'\n",
    "    elif name=='Texas': return 'TX'\n",
    "    elif name=='Utah': return 'UT'\n",
    "    elif name=='Vermont': return 'VT'\n",
    "    elif name=='Virginia': return 'VA'\n",
    "    elif name=='Washington': return 'WA'\n",
    "    elif name=='West Virginia': return 'WV'\n",
    "    elif name=='Wisconsin': return 'WI'\n",
    "    elif name=='Wyoming': return 'WY'\n",
    "    else: return \"missing\"\n",
    "\n",
    "#rename variables and apply format for 2 character state name for file merging.    \n",
    "od_df['abbrev'] = od_df['State'].apply(convert_state)\n",
    "od_df=od_df.rename(columns={'State':'State_long'})\n",
    "od_df=od_df.rename(columns={'abbrev':'State'})\n",
    "#od_df"
   ]
  },
  {
   "cell_type": "code",
   "execution_count": 4,
   "metadata": {},
   "outputs": [
    {
     "name": "stdout",
     "output_type": "stream",
     "text": [
      "States missing death data: 45    AK\n",
      "46    DC\n",
      "47    ID\n",
      "48    ND\n",
      "49    NE\n",
      "50    WY\n",
      "Name: State, dtype: object.\n"
     ]
    }
   ],
   "source": [
    "merge_df=pd.merge(od_df,cms_df,on='State', how=\"outer\")\n",
    "#print(merge_df)\n",
    "missing_df=merge_df.loc[merge_df['Age_Group']!='55+']\n",
    "print(f\"States missing death data: {missing_df['State']}.\")\n",
    "\n",
    "merge_df=merge_df.dropna(how='any')\n"
   ]
  },
  {
   "cell_type": "code",
   "execution_count": 5,
   "metadata": {
    "scrolled": true
   },
   "outputs": [
    {
     "data": {
      "image/png": "[encoded data removed]",
      "text/plain": [
       "<Figure size 432x288 with 1 Axes>"
      ]
     },
     "metadata": {
      "needs_background": "light"
     },
     "output_type": "display_data"
    }
   ],
   "source": [
    "merge_df['opioid_rx_pct']=merge_df['Total Opioid Rx']/merge_df['Total Rx']\n",
    "merge_df['opioid_od_pct']=merge_df['KFF_opioid_deaths']/merge_df['Deaths']\n",
    "x_values=merge_df['opioid_rx_pct']\n",
    "y_values=merge_df['opioid_od_pct']\n",
    "(slope,intercept,rvalue,pvalue,stderr)=linregress(x_values,y_values)\n",
    "regress_values=x_values*slope+intercept\n",
    "line_eq=\"y=\"+str(round(slope,4))+\"x+\"+str(round(intercept,4))\n",
    "plt.scatter(x_values,y_values,color='purple')\n",
    "plt.plot(x_values,regress_values,\"r-\",color=\"black\")\n",
    "plt.annotate(line_eq,(.025,.012), fontsize=15,color=\"black\")\n",
    "plt.ylim(0,.015)\n",
    "plt.xlabel(\"Percent of Rx that are opioids\")\n",
    "plt.gca().yaxis.set_major_formatter(PercentFormatter(1))\n",
    "plt.gca().xaxis.set_major_formatter(PercentFormatter(1))\n",
    "plt.title(\"Linear regression between % of opioid-related deaths and % of opioid Rx\")\n",
    "plt.ylabel(\"Percent of deaths that are opioid related\")\n",
    "plt.savefig(\"visualizations/death_vs_rx.png\", bbox_inches='tight')\n",
    "plt.show()"
   ]
  },
  {
   "cell_type": "code",
   "execution_count": 6,
   "metadata": {},
   "outputs": [
    {
     "name": "stdout",
     "output_type": "stream",
     "text": [
      "The correlation between percent of prescriptions that are opioids and percent of deaths that are opioid ODs is -0.08.\n"
     ]
    }
   ],
   "source": [
    "correlation=st.pearsonr(merge_df['opioid_rx_pct'],merge_df['opioid_od_pct'])\n",
    "print(f\"The correlation between percent of prescriptions that are opioids and percent of deaths that are opioid ODs is {round(correlation[0],2)}.\")"
   ]
  },
  {
   "cell_type": "code",
   "execution_count": 7,
   "metadata": {},
   "outputs": [
    {
     "data": {
      "image/png": "[encoded data removed]",
      "text/plain": [
       "<Figure size 432x288 with 1 Axes>"
      ]
     },
     "metadata": {
      "needs_background": "light"
     },
     "output_type": "display_data"
    }
   ],
   "source": [
    "merge_df['opioid_rx_pct']=merge_df['Total Opioid Rx']/merge_df['Total Rx']\n",
    "merge_df['opioid_od_100k']=(merge_df['KFF_opioid_deaths']/merge_df['Population'])*100000\n",
    "x_values=merge_df['opioid_rx_pct']\n",
    "y_values=merge_df['opioid_od_100k']\n",
    "(slope,intercept,rvalue,pvalue,stderr)=linregress(x_values,y_values)\n",
    "regress_values=x_values*slope+intercept\n",
    "line_eq=\"y=\"+str(round(slope,4))+\"x+\"+str(round(intercept,4))\n",
    "plt.scatter(x_values,y_values,color='purple')\n",
    "plt.plot(x_values,regress_values,\"r-\",color=\"black\")\n",
    "plt.annotate(line_eq,(.025,22), fontsize=15,color=\"black\")\n",
    "plt.ylim(0,30)\n",
    "plt.gca().xaxis.set_major_formatter(PercentFormatter(1))\n",
    "\n",
    "plt.title(\"Linear regression between opioid-related deaths per 100K and % of opioid Rx\", pad=15)\n",
    "plt.xlabel(\"Percent of Rx that are opioids\")\n",
    "plt.ylabel(\"Opioid-related deaths per 100K population\")\n",
    "plt.savefig(\"visualizations/death_100k_vs_rx.png\", bbox_inches='tight')\n",
    "plt.show()"
   ]
  },
  {
   "cell_type": "code",
   "execution_count": 8,
   "metadata": {},
   "outputs": [
    {
     "name": "stdout",
     "output_type": "stream",
     "text": [
      "The correlation between percent of prescriptions that are opioids and opioid deaths per 100K population is -0.09.\n"
     ]
    }
   ],
   "source": [
    "correlation=st.pearsonr(merge_df['opioid_rx_pct'],merge_df['opioid_od_100k'])\n",
    "print(f\"The correlation between percent of prescriptions that are opioids and opioid deaths per 100K population is {round(correlation[0],2)}.\")"
   ]
  }
 ],
 "metadata": {
  "kernelspec": {
   "display_name": "Python 3",
   "language": "python",
   "name": "python3"
  },
  "language_info": {
   "codemirror_mode": {
    "name": "ipython",
    "version": 3
   },
   "file_extension": ".py",
   "mimetype": "text/x-python",
   "name": "python",
   "nbconvert_exporter": "python",
   "pygments_lexer": "ipython3",
   "version": "3.7.6"
  }
 },
 "nbformat": 4,
 "nbformat_minor": 4
}
